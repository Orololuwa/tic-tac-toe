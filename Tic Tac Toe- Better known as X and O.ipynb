{
 "cells": [
  {
   "cell_type": "code",
   "execution_count": 13,
   "metadata": {},
   "outputs": [],
   "source": [
    "#A function that displays the board\n",
    "from IPython.display import clear_output\n",
    "\n",
    "def display_board(board):\n",
    "    clear_output()\n",
    "    print ('-------------')\n",
    "    print ('|'+' ' +board[7]+ ' ' +'|'+ ' ' + board[8]+ ' ' + '|'+ ' ' +board[9]+' |')\n",
    "    print ('|'+'---+---+---'+'|')\n",
    "    print ('|'+' ' +board[4]+ ' ' +'|'+ ' ' + board[5]+ ' ' + '|'+ ' ' +board[6]+' |')\n",
    "    print ('|'+'---+---+---'+'|')\n",
    "    print ('|'+' ' +board[1]+ ' ' +'|'+ ' ' + board[2]+ ' ' + '|'+ ' ' +board[3]+' |')\n",
    "    print ('-------------')"
   ]
  },
  {
   "cell_type": "code",
   "execution_count": 14,
   "metadata": {},
   "outputs": [],
   "source": [
    "#A function that takes in both player markers \"x\" and \"o\"and stores them\n",
    "def player_input():\n",
    "    marker = ''\n",
    "    while marker != 'x' and marker != 'o':\n",
    "        marker = input('Player 1 choose a marker \"X\" or \"O\"')\n",
    "        player1 = marker\n",
    "        \n",
    "    if player1 == 'x':\n",
    "        player2 = 'o'\n",
    "    else:\n",
    "        player2 = 'x'\n",
    "    return (player1,player2)\n",
    "    "
   ]
  },
  {
   "cell_type": "code",
   "execution_count": 15,
   "metadata": {},
   "outputs": [],
   "source": [
    "#a funtion that assigns player marker to the desired position on the board\n",
    "def place_marker(board,marker,position):\n",
    "    board[position] = marker"
   ]
  },
  {
   "cell_type": "code",
   "execution_count": 16,
   "metadata": {},
   "outputs": [],
   "source": [
    "#A function that checks if the marker inputed has won and returns True\n",
    "def win_check(board, marker):\n",
    "    return (board[1] == marker.lower()  and board[2] == marker.lower()  and board[3] == marker.lower() ) or (board[4] == marker.lower()  and board[5] == marker.lower()  and board[6] == marker.lower() ) or (board[7] == marker.lower()  and board[8] == marker.lower()  and board[9] == marker.lower() ) or (board[1] == marker.lower()  and board[4] == marker.lower()  and board[7] == marker.lower() ) or (board[2] == marker.lower()  and board[5] == marker.lower()  and board[8] == marker.lower() ) or (board[3] == marker.lower()  and board[6] == marker.lower()  and board[9] == marker.lower() ) or (board[1] == marker.lower()  and board[5] == marker.lower()  and board[9] == marker.lower() ) or (board[7] == marker.lower()  and board[5] == marker.lower()  and board[3] == marker.lower() )"
   ]
  },
  {
   "cell_type": "code",
   "execution_count": 17,
   "metadata": {},
   "outputs": [],
   "source": [
    "#A function that uses random to choose the player that goes first\n",
    "import random\n",
    "\n",
    "def choose_first():\n",
    "    if random.randint(0,1) == 0:\n",
    "        return 'Player 1'\n",
    "    else:\n",
    "        return 'Player 2'"
   ]
  },
  {
   "cell_type": "code",
   "execution_count": 18,
   "metadata": {},
   "outputs": [],
   "source": [
    "#A function ti check if there is space on the board\n",
    "def space_check(board, position):\n",
    "    return board[position] == ' '"
   ]
  },
  {
   "cell_type": "code",
   "execution_count": 19,
   "metadata": {},
   "outputs": [],
   "source": [
    "#A function that checks if the board is full\n",
    "def full_board_check(board):\n",
    "    for i in range(1,10):\n",
    "        if space_check(board,i):\n",
    "            return False\n",
    "    else:\n",
    "        return True"
   ]
  },
  {
   "cell_type": "code",
   "execution_count": 20,
   "metadata": {},
   "outputs": [],
   "source": [
    "#A function that asks players to input their marker on any position on the board\n",
    "def choose_position(board):\n",
    "    i = 0\n",
    "    while not i in [1,2,3,4,5,6,7,8,9] or not space_check(board, i):\n",
    "        i = int(input('Enter a position from (1-9)'))\n",
    "    return i"
   ]
  },
  {
   "cell_type": "code",
   "execution_count": 21,
   "metadata": {},
   "outputs": [],
   "source": [
    "#A function that asks the user if he/she wants to replay\n",
    "def replay():\n",
    "    answer = input('do you want to play again? (\"yes\" or \"no\")')\n",
    "    return answer.lower() == 'yes'"
   ]
  },
  {
   "cell_type": "code",
   "execution_count": 22,
   "metadata": {},
   "outputs": [
    {
     "name": "stdout",
     "output_type": "stream",
     "text": [
      "-------------\n",
      "| x | x | x |\n",
      "|---+---+---|\n",
      "|   |   |   |\n",
      "|---+---+---|\n",
      "| o |   | o |\n",
      "-------------\n",
      "PLAYER 1 WINS\n",
      "do you want to play again? (\"yes\" or \"no\")no\n"
     ]
    }
   ],
   "source": [
    "#The game code itself\n",
    "print ('Welcome to Tic Tac Toe')\n",
    "while True:\n",
    "    #create your board\n",
    "    game_board = [' ']*10\n",
    "    player1_marker, player2_marker = player_input()\n",
    "    \n",
    "    #call the function to choose the player to go first\n",
    "    turn = choose_first()\n",
    "    print (turn +' will go first')\n",
    "    \n",
    "    play_game = input('Are you ready to play? Enter Yes or No.')\n",
    "    \n",
    "    if play_game.lower()[0] == 'y':\n",
    "        game_on = True\n",
    "    else:\n",
    "        game_on = False\n",
    "\n",
    "    while game_on:\n",
    "    \n",
    "        if turn == 'Player 1':\n",
    "            display_board(game_board)\n",
    "            position = choose_position(game_board)\n",
    "            place_marker(game_board,player1_marker,position)\n",
    "        \n",
    "            if win_check(game_board,player1_marker):\n",
    "                display_board(game_board)\n",
    "                print ('PLAYER 1 WINS')\n",
    "                game_on = False\n",
    "            elif full_board_check(game_board):\n",
    "                display_board(game_board)\n",
    "                print ('tie')\n",
    "                game_on = False\n",
    "            else:\n",
    "                turn = 'Player 2'\n",
    "        else:\n",
    "            display_board(game_board)\n",
    "            position = choose_position(game_board)\n",
    "            place_marker(game_board,player2_marker,position)\n",
    "        \n",
    "            if win_check(game_board,player2_marker):\n",
    "                display_board(game_board)\n",
    "                print ('PLAYER 2 WINS')\n",
    "                game_on = False\n",
    "            elif full_board_check(game_board):\n",
    "                display_board(game_board)\n",
    "                print ('tie')\n",
    "                game_on = False\n",
    "            else:\n",
    "                turn = 'Player 1'           \n",
    "    if not replay():\n",
    "        break"
   ]
  },
  {
   "cell_type": "code",
   "execution_count": null,
   "metadata": {},
   "outputs": [],
   "source": []
  }
 ],
 "metadata": {
  "kernelspec": {
   "display_name": "Python 3",
   "language": "python",
   "name": "python3"
  },
  "language_info": {
   "codemirror_mode": {
    "name": "ipython",
    "version": 3
   },
   "file_extension": ".py",
   "mimetype": "text/x-python",
   "name": "python",
   "nbconvert_exporter": "python",
   "pygments_lexer": "ipython3",
   "version": "3.7.6"
  }
 },
 "nbformat": 4,
 "nbformat_minor": 4
}
